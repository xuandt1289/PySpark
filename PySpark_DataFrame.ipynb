{
 "cells": [
  {
   "cell_type": "markdown",
   "metadata": {},
   "source": [
    "# PySpark DataFrame \n",
    "\n",
    "This notebook is based on https://blog.mattbowers.dev/hello-pyspark\n",
    "\n",
    "### DataFrame \n",
    "\n",
    "It is one of the basic concepts of PySpark. It behaves a little differently from pandas dataframe. \n",
    "\n",
    "- Immutability: dataframes are immutable. It means that if you change an object, e.g. by adding a column to a dataframe, PySpark returns a reference to a new dataframe; it does not modify the existing dataframe. This is kind of nice, because we don't have to worry about that whole view versus copy nonsense that happens in pandas.\n",
    "\n",
    "- Lazy evaluation: means that when we start manipulating a dataframe, PySpark won't actually perform any of the computations until we explicitly ask for the result."
   ]
  },
  {
   "cell_type": "markdown",
   "metadata": {},
   "source": [
    "### Create a PySpark session in a Jupyter Notebook\n",
    "When we launch the pyspark shell, it instantiates an object called spark which is an instance of class pyspark.sql.session.SparkSession. It is entry point for all kinds of PySpark functionality."
   ]
  },
  {
   "cell_type": "code",
   "execution_count": 1,
   "metadata": {},
   "outputs": [],
   "source": [
    "import findspark\n",
    "findspark.init()\n",
    "\n",
    "import pyspark\n",
    "from pyspark.sql import SparkSession\n",
    "spark = SparkSession.builder.appName('My Spark App').getOrCreate()"
   ]
  },
  {
   "cell_type": "code",
   "execution_count": 2,
   "metadata": {},
   "outputs": [],
   "source": [
    "import pandas as pd\n",
    "\n",
    "# load tips dataset into a pandas dataframe\n",
    "pandas_df = pd.read_csv('https://raw.githubusercontent.com/mwaskom/seaborn-data/master/tips.csv')\n",
    "\n",
    "# create pyspark dataframe from a pandas dataframe\n",
    "pyspark_df = spark.createDataFrame(pandas_df)"
   ]
  },
  {
   "cell_type": "code",
   "execution_count": 3,
   "metadata": {},
   "outputs": [
    {
     "name": "stdout",
     "output_type": "stream",
     "text": [
      "+----------+----+------+------+---+------+----+\n",
      "|total_bill| tip|   sex|smoker|day|  time|size|\n",
      "+----------+----+------+------+---+------+----+\n",
      "|     16.99|1.01|Female|    No|Sun|Dinner|   2|\n",
      "|     10.34|1.66|  Male|    No|Sun|Dinner|   3|\n",
      "|     21.01| 3.5|  Male|    No|Sun|Dinner|   3|\n",
      "+----------+----+------+------+---+------+----+\n",
      "only showing top 3 rows\n",
      "\n"
     ]
    }
   ],
   "source": [
    "# show the first few rows of the dataframe\n",
    "pyspark_df.show(3)"
   ]
  },
  {
   "cell_type": "code",
   "execution_count": 4,
   "metadata": {},
   "outputs": [
    {
     "name": "stdout",
     "output_type": "stream",
     "text": [
      "root\n",
      " |-- total_bill: double (nullable = true)\n",
      " |-- tip: double (nullable = true)\n",
      " |-- sex: string (nullable = true)\n",
      " |-- smoker: string (nullable = true)\n",
      " |-- day: string (nullable = true)\n",
      " |-- time: string (nullable = true)\n",
      " |-- size: long (nullable = true)\n",
      "\n"
     ]
    }
   ],
   "source": [
    "# show the dataframe schema\n",
    "pyspark_df.printSchema()"
   ]
  },
  {
   "cell_type": "code",
   "execution_count": 5,
   "metadata": {},
   "outputs": [
    {
     "data": {
      "text/plain": [
       "DataFrame[total_bill: double, tip: double]"
      ]
     },
     "execution_count": 5,
     "metadata": {},
     "output_type": "execute_result"
    }
   ],
   "source": [
    "# select some columns\n",
    "pyspark_df.select('total_bill', 'tip')"
   ]
  },
  {
   "cell_type": "code",
   "execution_count": 6,
   "metadata": {},
   "outputs": [
    {
     "data": {
      "text/plain": [
       "DataFrame[total_bill: double, tip: double, sex: string, smoker: string, day: string, time: string, size: bigint]"
      ]
     },
     "execution_count": 6,
     "metadata": {},
     "output_type": "execute_result"
    }
   ],
   "source": [
    "# compare a column to a value\n",
    "pyspark_df.filter('total_bill > 20')\n",
    "\n",
    "# check equality with any of several possible values\n",
    "pyspark_df.filter('day in (\"Sat\", \"Sun\")')\n",
    "\n",
    "# use \"and\" \n",
    "pyspark_df.filter('day == \"Fri\" and time == \"Lunch\"')"
   ]
  },
  {
   "cell_type": "code",
   "execution_count": 7,
   "metadata": {},
   "outputs": [
    {
     "data": {
      "text/plain": [
       "DataFrame[total_bill: double, tip: double, sex: string, smoker: string, day: string, time: string, size: bigint, tip_percent: double]"
      ]
     },
     "execution_count": 7,
     "metadata": {},
     "output_type": "execute_result"
    }
   ],
   "source": [
    "# add a new column using col() to reference other columns\n",
    "import pyspark.sql.functions as f\n",
    "\n",
    "pyspark_df.withColumn('tip_percent', f.col('tip')/f.col('total_bill'))"
   ]
  },
  {
   "cell_type": "code",
   "execution_count": 9,
   "metadata": {},
   "outputs": [
    {
     "data": {
      "text/plain": [
       "DataFrame[total_bill: double, tip: double, sex: string, smoker: string, day: string, time: string, size: bigint, bill_size: string]"
      ]
     },
     "execution_count": 9,
     "metadata": {},
     "output_type": "execute_result"
    }
   ],
   "source": [
    "# conditional assignment (like CASE WHEN)\n",
    "pyspark_df.withColumn('is_male', f.when(f.col('sex') == 'Male', True).otherwise(False))\n",
    "\n",
    "# using multiple when conditions and values\n",
    "pyspark_df.withColumn('bill_size', \n",
    "    f.when(f.col('total_bill') < 10, 'small')\n",
    "    .when(f.col('total_bill') < 20, 'medium')\n",
    "    .otherwise('large')\n",
    ")"
   ]
  },
  {
   "cell_type": "code",
   "execution_count": 10,
   "metadata": {},
   "outputs": [
    {
     "name": "stdout",
     "output_type": "stream",
     "text": [
      "+------+-----+\n",
      "|  time|count|\n",
      "+------+-----+\n",
      "| Lunch|   68|\n",
      "|Dinner|  176|\n",
      "+------+-----+\n",
      "\n",
      "+------+--------+------------------+\n",
      "|  time|max(tip)|   avg(total_bill)|\n",
      "+------+--------+------------------+\n",
      "| Lunch|     6.7|17.168676470588235|\n",
      "|Dinner|    10.0| 20.79715909090909|\n",
      "+------+--------+------------------+\n",
      "\n"
     ]
    }
   ],
   "source": [
    "# group by and count\n",
    "pyspark_df.groupBy('time').count().show()\n",
    "\n",
    "# group by and specify column-aggregation mapping with agg()\n",
    "pyspark_df.groupBy('time').agg({'total_bill': 'mean', 'tip': 'max'}).show()"
   ]
  },
  {
   "cell_type": "code",
   "execution_count": 13,
   "metadata": {},
   "outputs": [
    {
     "name": "stdout",
     "output_type": "stream",
     "text": [
      "+----------+----+------+------+---+------+----+\n",
      "|total_bill| tip|   sex|smoker|day|  time|size|\n",
      "+----------+----+------+------+---+------+----+\n",
      "|     16.99|1.01|Female|    No|Sun|Dinner|   2|\n",
      "|     10.34|1.66|  Male|    No|Sun|Dinner|   3|\n",
      "|     21.01| 3.5|  Male|    No|Sun|Dinner|   3|\n",
      "|     23.68|3.31|  Male|    No|Sun|Dinner|   2|\n",
      "|     24.59|3.61|Female|    No|Sun|Dinner|   4|\n",
      "+----------+----+------+------+---+------+----+\n",
      "only showing top 5 rows\n",
      "\n",
      "+------+---+------------------+-------+-------------------+\n",
      "|  time|  n|           avg_tip|med_tip|       pct_tip_gt_3|\n",
      "+------+---+------------------+-------+-------------------+\n",
      "| Lunch| 68|2.7280882352941176|    2.2|0.27941176470588236|\n",
      "|Dinner|176| 3.102670454545455|    3.0|0.44886363636363635|\n",
      "+------+---+------------------+-------+-------------------+\n",
      "\n"
     ]
    },
    {
     "data": {
      "image/png": "[encoded data removed]",
      "text/plain": [
       "<Figure size 432x288 with 1 Axes>"
      ]
     },
     "metadata": {
      "needs_background": "light"
     },
     "output_type": "display_data"
    }
   ],
   "source": [
    "# put pyspark dataframe in SQL world and query it\n",
    "pyspark_df.createOrReplaceTempView('tips')\n",
    "spark.sql('select * from tips').show(5)\n",
    "\n",
    "# run hive query and save result to dataframe\n",
    "tip_stats_by_time = spark.sql(\"\"\"\n",
    "    select\n",
    "        time\n",
    "        , count(*) as n \n",
    "        , avg(tip) as avg_tip\n",
    "        , percentile_approx(tip, 0.5) as med_tip\n",
    "        , avg(case when tip > 3 then 1 else 0 end) as pct_tip_gt_3\n",
    "    from \n",
    "        tips\n",
    "    group by 1\n",
    "\"\"\")\n",
    "\n",
    "tip_stats_by_time.show()\n",
    "\n",
    "# read aggregated pyspark dataframe into pandas for plotting\n",
    "plot_pdf = tip_stats_by_time.toPandas()\n",
    "plot_pdf.plot.bar(x='time', y=['avg_tip', 'med_tip']);"
   ]
  }
 ],
 "metadata": {
  "kernelspec": {
   "display_name": "Python 3",
   "language": "python",
   "name": "python3"
  },
  "language_info": {
   "codemirror_mode": {
    "name": "ipython",
    "version": 3
   },
   "file_extension": ".py",
   "mimetype": "text/x-python",
   "name": "python",
   "nbconvert_exporter": "python",
   "pygments_lexer": "ipython3",
   "version": "3.8.3"
  }
 },
 "nbformat": 4,
 "nbformat_minor": 4
}
